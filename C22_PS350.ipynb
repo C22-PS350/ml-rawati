{
  "nbformat": 4,
  "nbformat_minor": 0,
  "metadata": {
    "colab": {
      "name": "C22-PS350.ipynb",
      "provenance": [],
      "collapsed_sections": [
        "oeDAYhYI1cw3",
        "dUXb0t1g1fjC"
      ]
    },
    "kernelspec": {
      "name": "python3",
      "display_name": "Python 3"
    },
    "language_info": {
      "name": "python"
    }
  },
  "cells": [
    {
      "cell_type": "markdown",
      "source": [
        "# Exercise Model"
      ],
      "metadata": {
        "id": "vGtzIXJ2Rs02"
      }
    },
    {
      "cell_type": "markdown",
      "source": [
        "## Requirement"
      ],
      "metadata": {
        "id": "oeDAYhYI1cw3"
      }
    },
    {
      "cell_type": "code",
      "execution_count": 1,
      "metadata": {
        "id": "jp23r7eAUUyo"
      },
      "outputs": [],
      "source": [
        "import warnings\n",
        "warnings.filterwarnings('ignore')\n",
        "\n",
        "import pandas as pd\n",
        "import numpy as np\n",
        "import seaborn as sns\n",
        "import tensorflow as tf\n",
        "import matplotlib.pyplot as plt\n",
        "from sklearn.metrics import mean_absolute_error, r2_score\n",
        "from sklearn.model_selection import train_test_split\n",
        "from sklearn import linear_model\n",
        "from sklearn.preprocessing import StandardScaler\n",
        "from tensorflow import keras\n",
        "from tensorflow.keras import layers"
      ]
    },
    {
      "cell_type": "markdown",
      "source": [
        "## Data Preparation"
      ],
      "metadata": {
        "id": "dUXb0t1g1fjC"
      }
    },
    {
      "cell_type": "code",
      "source": [
        "df_cal = pd.read_csv('/content/calories.csv')\n",
        "df_ex = pd.read_csv('/content/exercise.csv')"
      ],
      "metadata": {
        "id": "a3CnS0jdXp9F"
      },
      "execution_count": 3,
      "outputs": []
    },
    {
      "cell_type": "code",
      "source": [
        "df_cal"
      ],
      "metadata": {
        "id": "Owg6uCKMbeL5",
        "colab": {
          "base_uri": "https://localhost:8080/",
          "height": 424
        },
        "outputId": "08db3930-534f-4447-cd75-414cf15c11ed"
      },
      "execution_count": 4,
      "outputs": [
        {
          "output_type": "execute_result",
          "data": {
            "text/plain": [
              "        User_ID  Calories\n",
              "0      14733363     231.0\n",
              "1      14861698      66.0\n",
              "2      11179863      26.0\n",
              "3      16180408      71.0\n",
              "4      17771927      35.0\n",
              "...         ...       ...\n",
              "14995  15644082      45.0\n",
              "14996  17212577      23.0\n",
              "14997  17271188      75.0\n",
              "14998  18643037      11.0\n",
              "14999  11751526      98.0\n",
              "\n",
              "[15000 rows x 2 columns]"
            ],
            "text/html": [
              "\n",
              "  <div id=\"df-a32cae62-a16c-48a7-b72d-8e04cf301cf2\">\n",
              "    <div class=\"colab-df-container\">\n",
              "      <div>\n",
              "<style scoped>\n",
              "    .dataframe tbody tr th:only-of-type {\n",
              "        vertical-align: middle;\n",
              "    }\n",
              "\n",
              "    .dataframe tbody tr th {\n",
              "        vertical-align: top;\n",
              "    }\n",
              "\n",
              "    .dataframe thead th {\n",
              "        text-align: right;\n",
              "    }\n",
              "</style>\n",
              "<table border=\"1\" class=\"dataframe\">\n",
              "  <thead>\n",
              "    <tr style=\"text-align: right;\">\n",
              "      <th></th>\n",
              "      <th>User_ID</th>\n",
              "      <th>Calories</th>\n",
              "    </tr>\n",
              "  </thead>\n",
              "  <tbody>\n",
              "    <tr>\n",
              "      <th>0</th>\n",
              "      <td>14733363</td>\n",
              "      <td>231.0</td>\n",
              "    </tr>\n",
              "    <tr>\n",
              "      <th>1</th>\n",
              "      <td>14861698</td>\n",
              "      <td>66.0</td>\n",
              "    </tr>\n",
              "    <tr>\n",
              "      <th>2</th>\n",
              "      <td>11179863</td>\n",
              "      <td>26.0</td>\n",
              "    </tr>\n",
              "    <tr>\n",
              "      <th>3</th>\n",
              "      <td>16180408</td>\n",
              "      <td>71.0</td>\n",
              "    </tr>\n",
              "    <tr>\n",
              "      <th>4</th>\n",
              "      <td>17771927</td>\n",
              "      <td>35.0</td>\n",
              "    </tr>\n",
              "    <tr>\n",
              "      <th>...</th>\n",
              "      <td>...</td>\n",
              "      <td>...</td>\n",
              "    </tr>\n",
              "    <tr>\n",
              "      <th>14995</th>\n",
              "      <td>15644082</td>\n",
              "      <td>45.0</td>\n",
              "    </tr>\n",
              "    <tr>\n",
              "      <th>14996</th>\n",
              "      <td>17212577</td>\n",
              "      <td>23.0</td>\n",
              "    </tr>\n",
              "    <tr>\n",
              "      <th>14997</th>\n",
              "      <td>17271188</td>\n",
              "      <td>75.0</td>\n",
              "    </tr>\n",
              "    <tr>\n",
              "      <th>14998</th>\n",
              "      <td>18643037</td>\n",
              "      <td>11.0</td>\n",
              "    </tr>\n",
              "    <tr>\n",
              "      <th>14999</th>\n",
              "      <td>11751526</td>\n",
              "      <td>98.0</td>\n",
              "    </tr>\n",
              "  </tbody>\n",
              "</table>\n",
              "<p>15000 rows × 2 columns</p>\n",
              "</div>\n",
              "      <button class=\"colab-df-convert\" onclick=\"convertToInteractive('df-a32cae62-a16c-48a7-b72d-8e04cf301cf2')\"\n",
              "              title=\"Convert this dataframe to an interactive table.\"\n",
              "              style=\"display:none;\">\n",
              "        \n",
              "  <svg xmlns=\"http://www.w3.org/2000/svg\" height=\"24px\"viewBox=\"0 0 24 24\"\n",
              "       width=\"24px\">\n",
              "    <path d=\"M0 0h24v24H0V0z\" fill=\"none\"/>\n",
              "    <path d=\"M18.56 5.44l.94 2.06.94-2.06 2.06-.94-2.06-.94-.94-2.06-.94 2.06-2.06.94zm-11 1L8.5 8.5l.94-2.06 2.06-.94-2.06-.94L8.5 2.5l-.94 2.06-2.06.94zm10 10l.94 2.06.94-2.06 2.06-.94-2.06-.94-.94-2.06-.94 2.06-2.06.94z\"/><path d=\"M17.41 7.96l-1.37-1.37c-.4-.4-.92-.59-1.43-.59-.52 0-1.04.2-1.43.59L10.3 9.45l-7.72 7.72c-.78.78-.78 2.05 0 2.83L4 21.41c.39.39.9.59 1.41.59.51 0 1.02-.2 1.41-.59l7.78-7.78 2.81-2.81c.8-.78.8-2.07 0-2.86zM5.41 20L4 18.59l7.72-7.72 1.47 1.35L5.41 20z\"/>\n",
              "  </svg>\n",
              "      </button>\n",
              "      \n",
              "  <style>\n",
              "    .colab-df-container {\n",
              "      display:flex;\n",
              "      flex-wrap:wrap;\n",
              "      gap: 12px;\n",
              "    }\n",
              "\n",
              "    .colab-df-convert {\n",
              "      background-color: #E8F0FE;\n",
              "      border: none;\n",
              "      border-radius: 50%;\n",
              "      cursor: pointer;\n",
              "      display: none;\n",
              "      fill: #1967D2;\n",
              "      height: 32px;\n",
              "      padding: 0 0 0 0;\n",
              "      width: 32px;\n",
              "    }\n",
              "\n",
              "    .colab-df-convert:hover {\n",
              "      background-color: #E2EBFA;\n",
              "      box-shadow: 0px 1px 2px rgba(60, 64, 67, 0.3), 0px 1px 3px 1px rgba(60, 64, 67, 0.15);\n",
              "      fill: #174EA6;\n",
              "    }\n",
              "\n",
              "    [theme=dark] .colab-df-convert {\n",
              "      background-color: #3B4455;\n",
              "      fill: #D2E3FC;\n",
              "    }\n",
              "\n",
              "    [theme=dark] .colab-df-convert:hover {\n",
              "      background-color: #434B5C;\n",
              "      box-shadow: 0px 1px 3px 1px rgba(0, 0, 0, 0.15);\n",
              "      filter: drop-shadow(0px 1px 2px rgba(0, 0, 0, 0.3));\n",
              "      fill: #FFFFFF;\n",
              "    }\n",
              "  </style>\n",
              "\n",
              "      <script>\n",
              "        const buttonEl =\n",
              "          document.querySelector('#df-a32cae62-a16c-48a7-b72d-8e04cf301cf2 button.colab-df-convert');\n",
              "        buttonEl.style.display =\n",
              "          google.colab.kernel.accessAllowed ? 'block' : 'none';\n",
              "\n",
              "        async function convertToInteractive(key) {\n",
              "          const element = document.querySelector('#df-a32cae62-a16c-48a7-b72d-8e04cf301cf2');\n",
              "          const dataTable =\n",
              "            await google.colab.kernel.invokeFunction('convertToInteractive',\n",
              "                                                     [key], {});\n",
              "          if (!dataTable) return;\n",
              "\n",
              "          const docLinkHtml = 'Like what you see? Visit the ' +\n",
              "            '<a target=\"_blank\" href=https://colab.research.google.com/notebooks/data_table.ipynb>data table notebook</a>'\n",
              "            + ' to learn more about interactive tables.';\n",
              "          element.innerHTML = '';\n",
              "          dataTable['output_type'] = 'display_data';\n",
              "          await google.colab.output.renderOutput(dataTable, element);\n",
              "          const docLink = document.createElement('div');\n",
              "          docLink.innerHTML = docLinkHtml;\n",
              "          element.appendChild(docLink);\n",
              "        }\n",
              "      </script>\n",
              "    </div>\n",
              "  </div>\n",
              "  "
            ]
          },
          "metadata": {},
          "execution_count": 4
        }
      ]
    },
    {
      "cell_type": "code",
      "source": [
        "df_ex"
      ],
      "metadata": {
        "id": "B9635EqQY-tS",
        "colab": {
          "base_uri": "https://localhost:8080/",
          "height": 424
        },
        "outputId": "f4ec306b-e17b-4df4-e606-f1eeea947eb3"
      },
      "execution_count": 5,
      "outputs": [
        {
          "output_type": "execute_result",
          "data": {
            "text/plain": [
              "        User_ID  Gender  Age  Height  Weight  Duration  Heart_Rate  Body_Temp\n",
              "0      14733363    male   68   190.0    94.0      29.0       105.0       40.8\n",
              "1      14861698  female   20   166.0    60.0      14.0        94.0       40.3\n",
              "2      11179863    male   69   179.0    79.0       5.0        88.0       38.7\n",
              "3      16180408  female   34   179.0    71.0      13.0       100.0       40.5\n",
              "4      17771927  female   27   154.0    58.0      10.0        81.0       39.8\n",
              "...         ...     ...  ...     ...     ...       ...         ...        ...\n",
              "14995  15644082  female   20   193.0    86.0      11.0        92.0       40.4\n",
              "14996  17212577  female   27   165.0    65.0       6.0        85.0       39.2\n",
              "14997  17271188  female   43   159.0    58.0      16.0        90.0       40.1\n",
              "14998  18643037    male   78   193.0    97.0       2.0        84.0       38.3\n",
              "14999  11751526    male   63   173.0    79.0      18.0        92.0       40.5\n",
              "\n",
              "[15000 rows x 8 columns]"
            ],
            "text/html": [
              "\n",
              "  <div id=\"df-e01313d3-fcfb-4f4e-b05a-5f79ca570b4f\">\n",
              "    <div class=\"colab-df-container\">\n",
              "      <div>\n",
              "<style scoped>\n",
              "    .dataframe tbody tr th:only-of-type {\n",
              "        vertical-align: middle;\n",
              "    }\n",
              "\n",
              "    .dataframe tbody tr th {\n",
              "        vertical-align: top;\n",
              "    }\n",
              "\n",
              "    .dataframe thead th {\n",
              "        text-align: right;\n",
              "    }\n",
              "</style>\n",
              "<table border=\"1\" class=\"dataframe\">\n",
              "  <thead>\n",
              "    <tr style=\"text-align: right;\">\n",
              "      <th></th>\n",
              "      <th>User_ID</th>\n",
              "      <th>Gender</th>\n",
              "      <th>Age</th>\n",
              "      <th>Height</th>\n",
              "      <th>Weight</th>\n",
              "      <th>Duration</th>\n",
              "      <th>Heart_Rate</th>\n",
              "      <th>Body_Temp</th>\n",
              "    </tr>\n",
              "  </thead>\n",
              "  <tbody>\n",
              "    <tr>\n",
              "      <th>0</th>\n",
              "      <td>14733363</td>\n",
              "      <td>male</td>\n",
              "      <td>68</td>\n",
              "      <td>190.0</td>\n",
              "      <td>94.0</td>\n",
              "      <td>29.0</td>\n",
              "      <td>105.0</td>\n",
              "      <td>40.8</td>\n",
              "    </tr>\n",
              "    <tr>\n",
              "      <th>1</th>\n",
              "      <td>14861698</td>\n",
              "      <td>female</td>\n",
              "      <td>20</td>\n",
              "      <td>166.0</td>\n",
              "      <td>60.0</td>\n",
              "      <td>14.0</td>\n",
              "      <td>94.0</td>\n",
              "      <td>40.3</td>\n",
              "    </tr>\n",
              "    <tr>\n",
              "      <th>2</th>\n",
              "      <td>11179863</td>\n",
              "      <td>male</td>\n",
              "      <td>69</td>\n",
              "      <td>179.0</td>\n",
              "      <td>79.0</td>\n",
              "      <td>5.0</td>\n",
              "      <td>88.0</td>\n",
              "      <td>38.7</td>\n",
              "    </tr>\n",
              "    <tr>\n",
              "      <th>3</th>\n",
              "      <td>16180408</td>\n",
              "      <td>female</td>\n",
              "      <td>34</td>\n",
              "      <td>179.0</td>\n",
              "      <td>71.0</td>\n",
              "      <td>13.0</td>\n",
              "      <td>100.0</td>\n",
              "      <td>40.5</td>\n",
              "    </tr>\n",
              "    <tr>\n",
              "      <th>4</th>\n",
              "      <td>17771927</td>\n",
              "      <td>female</td>\n",
              "      <td>27</td>\n",
              "      <td>154.0</td>\n",
              "      <td>58.0</td>\n",
              "      <td>10.0</td>\n",
              "      <td>81.0</td>\n",
              "      <td>39.8</td>\n",
              "    </tr>\n",
              "    <tr>\n",
              "      <th>...</th>\n",
              "      <td>...</td>\n",
              "      <td>...</td>\n",
              "      <td>...</td>\n",
              "      <td>...</td>\n",
              "      <td>...</td>\n",
              "      <td>...</td>\n",
              "      <td>...</td>\n",
              "      <td>...</td>\n",
              "    </tr>\n",
              "    <tr>\n",
              "      <th>14995</th>\n",
              "      <td>15644082</td>\n",
              "      <td>female</td>\n",
              "      <td>20</td>\n",
              "      <td>193.0</td>\n",
              "      <td>86.0</td>\n",
              "      <td>11.0</td>\n",
              "      <td>92.0</td>\n",
              "      <td>40.4</td>\n",
              "    </tr>\n",
              "    <tr>\n",
              "      <th>14996</th>\n",
              "      <td>17212577</td>\n",
              "      <td>female</td>\n",
              "      <td>27</td>\n",
              "      <td>165.0</td>\n",
              "      <td>65.0</td>\n",
              "      <td>6.0</td>\n",
              "      <td>85.0</td>\n",
              "      <td>39.2</td>\n",
              "    </tr>\n",
              "    <tr>\n",
              "      <th>14997</th>\n",
              "      <td>17271188</td>\n",
              "      <td>female</td>\n",
              "      <td>43</td>\n",
              "      <td>159.0</td>\n",
              "      <td>58.0</td>\n",
              "      <td>16.0</td>\n",
              "      <td>90.0</td>\n",
              "      <td>40.1</td>\n",
              "    </tr>\n",
              "    <tr>\n",
              "      <th>14998</th>\n",
              "      <td>18643037</td>\n",
              "      <td>male</td>\n",
              "      <td>78</td>\n",
              "      <td>193.0</td>\n",
              "      <td>97.0</td>\n",
              "      <td>2.0</td>\n",
              "      <td>84.0</td>\n",
              "      <td>38.3</td>\n",
              "    </tr>\n",
              "    <tr>\n",
              "      <th>14999</th>\n",
              "      <td>11751526</td>\n",
              "      <td>male</td>\n",
              "      <td>63</td>\n",
              "      <td>173.0</td>\n",
              "      <td>79.0</td>\n",
              "      <td>18.0</td>\n",
              "      <td>92.0</td>\n",
              "      <td>40.5</td>\n",
              "    </tr>\n",
              "  </tbody>\n",
              "</table>\n",
              "<p>15000 rows × 8 columns</p>\n",
              "</div>\n",
              "      <button class=\"colab-df-convert\" onclick=\"convertToInteractive('df-e01313d3-fcfb-4f4e-b05a-5f79ca570b4f')\"\n",
              "              title=\"Convert this dataframe to an interactive table.\"\n",
              "              style=\"display:none;\">\n",
              "        \n",
              "  <svg xmlns=\"http://www.w3.org/2000/svg\" height=\"24px\"viewBox=\"0 0 24 24\"\n",
              "       width=\"24px\">\n",
              "    <path d=\"M0 0h24v24H0V0z\" fill=\"none\"/>\n",
              "    <path d=\"M18.56 5.44l.94 2.06.94-2.06 2.06-.94-2.06-.94-.94-2.06-.94 2.06-2.06.94zm-11 1L8.5 8.5l.94-2.06 2.06-.94-2.06-.94L8.5 2.5l-.94 2.06-2.06.94zm10 10l.94 2.06.94-2.06 2.06-.94-2.06-.94-.94-2.06-.94 2.06-2.06.94z\"/><path d=\"M17.41 7.96l-1.37-1.37c-.4-.4-.92-.59-1.43-.59-.52 0-1.04.2-1.43.59L10.3 9.45l-7.72 7.72c-.78.78-.78 2.05 0 2.83L4 21.41c.39.39.9.59 1.41.59.51 0 1.02-.2 1.41-.59l7.78-7.78 2.81-2.81c.8-.78.8-2.07 0-2.86zM5.41 20L4 18.59l7.72-7.72 1.47 1.35L5.41 20z\"/>\n",
              "  </svg>\n",
              "      </button>\n",
              "      \n",
              "  <style>\n",
              "    .colab-df-container {\n",
              "      display:flex;\n",
              "      flex-wrap:wrap;\n",
              "      gap: 12px;\n",
              "    }\n",
              "\n",
              "    .colab-df-convert {\n",
              "      background-color: #E8F0FE;\n",
              "      border: none;\n",
              "      border-radius: 50%;\n",
              "      cursor: pointer;\n",
              "      display: none;\n",
              "      fill: #1967D2;\n",
              "      height: 32px;\n",
              "      padding: 0 0 0 0;\n",
              "      width: 32px;\n",
              "    }\n",
              "\n",
              "    .colab-df-convert:hover {\n",
              "      background-color: #E2EBFA;\n",
              "      box-shadow: 0px 1px 2px rgba(60, 64, 67, 0.3), 0px 1px 3px 1px rgba(60, 64, 67, 0.15);\n",
              "      fill: #174EA6;\n",
              "    }\n",
              "\n",
              "    [theme=dark] .colab-df-convert {\n",
              "      background-color: #3B4455;\n",
              "      fill: #D2E3FC;\n",
              "    }\n",
              "\n",
              "    [theme=dark] .colab-df-convert:hover {\n",
              "      background-color: #434B5C;\n",
              "      box-shadow: 0px 1px 3px 1px rgba(0, 0, 0, 0.15);\n",
              "      filter: drop-shadow(0px 1px 2px rgba(0, 0, 0, 0.3));\n",
              "      fill: #FFFFFF;\n",
              "    }\n",
              "  </style>\n",
              "\n",
              "      <script>\n",
              "        const buttonEl =\n",
              "          document.querySelector('#df-e01313d3-fcfb-4f4e-b05a-5f79ca570b4f button.colab-df-convert');\n",
              "        buttonEl.style.display =\n",
              "          google.colab.kernel.accessAllowed ? 'block' : 'none';\n",
              "\n",
              "        async function convertToInteractive(key) {\n",
              "          const element = document.querySelector('#df-e01313d3-fcfb-4f4e-b05a-5f79ca570b4f');\n",
              "          const dataTable =\n",
              "            await google.colab.kernel.invokeFunction('convertToInteractive',\n",
              "                                                     [key], {});\n",
              "          if (!dataTable) return;\n",
              "\n",
              "          const docLinkHtml = 'Like what you see? Visit the ' +\n",
              "            '<a target=\"_blank\" href=https://colab.research.google.com/notebooks/data_table.ipynb>data table notebook</a>'\n",
              "            + ' to learn more about interactive tables.';\n",
              "          element.innerHTML = '';\n",
              "          dataTable['output_type'] = 'display_data';\n",
              "          await google.colab.output.renderOutput(dataTable, element);\n",
              "          const docLink = document.createElement('div');\n",
              "          docLink.innerHTML = docLinkHtml;\n",
              "          element.appendChild(docLink);\n",
              "        }\n",
              "      </script>\n",
              "    </div>\n",
              "  </div>\n",
              "  "
            ]
          },
          "metadata": {},
          "execution_count": 5
        }
      ]
    },
    {
      "cell_type": "code",
      "source": [
        "# merge\n",
        "df = pd.merge(df_ex, df_cal, on = 'User_ID')\n",
        "df.head()"
      ],
      "metadata": {
        "id": "JepvNeEIZVh_",
        "colab": {
          "base_uri": "https://localhost:8080/",
          "height": 206
        },
        "outputId": "3ccfd7a6-1d53-4fcd-cb84-4233da3134f8"
      },
      "execution_count": 6,
      "outputs": [
        {
          "output_type": "execute_result",
          "data": {
            "text/plain": [
              "    User_ID  Gender  Age  Height  Weight  Duration  Heart_Rate  Body_Temp  \\\n",
              "0  14733363    male   68   190.0    94.0      29.0       105.0       40.8   \n",
              "1  14861698  female   20   166.0    60.0      14.0        94.0       40.3   \n",
              "2  11179863    male   69   179.0    79.0       5.0        88.0       38.7   \n",
              "3  16180408  female   34   179.0    71.0      13.0       100.0       40.5   \n",
              "4  17771927  female   27   154.0    58.0      10.0        81.0       39.8   \n",
              "\n",
              "   Calories  \n",
              "0     231.0  \n",
              "1      66.0  \n",
              "2      26.0  \n",
              "3      71.0  \n",
              "4      35.0  "
            ],
            "text/html": [
              "\n",
              "  <div id=\"df-f1204153-08b7-4628-b514-b84f1fe1a93a\">\n",
              "    <div class=\"colab-df-container\">\n",
              "      <div>\n",
              "<style scoped>\n",
              "    .dataframe tbody tr th:only-of-type {\n",
              "        vertical-align: middle;\n",
              "    }\n",
              "\n",
              "    .dataframe tbody tr th {\n",
              "        vertical-align: top;\n",
              "    }\n",
              "\n",
              "    .dataframe thead th {\n",
              "        text-align: right;\n",
              "    }\n",
              "</style>\n",
              "<table border=\"1\" class=\"dataframe\">\n",
              "  <thead>\n",
              "    <tr style=\"text-align: right;\">\n",
              "      <th></th>\n",
              "      <th>User_ID</th>\n",
              "      <th>Gender</th>\n",
              "      <th>Age</th>\n",
              "      <th>Height</th>\n",
              "      <th>Weight</th>\n",
              "      <th>Duration</th>\n",
              "      <th>Heart_Rate</th>\n",
              "      <th>Body_Temp</th>\n",
              "      <th>Calories</th>\n",
              "    </tr>\n",
              "  </thead>\n",
              "  <tbody>\n",
              "    <tr>\n",
              "      <th>0</th>\n",
              "      <td>14733363</td>\n",
              "      <td>male</td>\n",
              "      <td>68</td>\n",
              "      <td>190.0</td>\n",
              "      <td>94.0</td>\n",
              "      <td>29.0</td>\n",
              "      <td>105.0</td>\n",
              "      <td>40.8</td>\n",
              "      <td>231.0</td>\n",
              "    </tr>\n",
              "    <tr>\n",
              "      <th>1</th>\n",
              "      <td>14861698</td>\n",
              "      <td>female</td>\n",
              "      <td>20</td>\n",
              "      <td>166.0</td>\n",
              "      <td>60.0</td>\n",
              "      <td>14.0</td>\n",
              "      <td>94.0</td>\n",
              "      <td>40.3</td>\n",
              "      <td>66.0</td>\n",
              "    </tr>\n",
              "    <tr>\n",
              "      <th>2</th>\n",
              "      <td>11179863</td>\n",
              "      <td>male</td>\n",
              "      <td>69</td>\n",
              "      <td>179.0</td>\n",
              "      <td>79.0</td>\n",
              "      <td>5.0</td>\n",
              "      <td>88.0</td>\n",
              "      <td>38.7</td>\n",
              "      <td>26.0</td>\n",
              "    </tr>\n",
              "    <tr>\n",
              "      <th>3</th>\n",
              "      <td>16180408</td>\n",
              "      <td>female</td>\n",
              "      <td>34</td>\n",
              "      <td>179.0</td>\n",
              "      <td>71.0</td>\n",
              "      <td>13.0</td>\n",
              "      <td>100.0</td>\n",
              "      <td>40.5</td>\n",
              "      <td>71.0</td>\n",
              "    </tr>\n",
              "    <tr>\n",
              "      <th>4</th>\n",
              "      <td>17771927</td>\n",
              "      <td>female</td>\n",
              "      <td>27</td>\n",
              "      <td>154.0</td>\n",
              "      <td>58.0</td>\n",
              "      <td>10.0</td>\n",
              "      <td>81.0</td>\n",
              "      <td>39.8</td>\n",
              "      <td>35.0</td>\n",
              "    </tr>\n",
              "  </tbody>\n",
              "</table>\n",
              "</div>\n",
              "      <button class=\"colab-df-convert\" onclick=\"convertToInteractive('df-f1204153-08b7-4628-b514-b84f1fe1a93a')\"\n",
              "              title=\"Convert this dataframe to an interactive table.\"\n",
              "              style=\"display:none;\">\n",
              "        \n",
              "  <svg xmlns=\"http://www.w3.org/2000/svg\" height=\"24px\"viewBox=\"0 0 24 24\"\n",
              "       width=\"24px\">\n",
              "    <path d=\"M0 0h24v24H0V0z\" fill=\"none\"/>\n",
              "    <path d=\"M18.56 5.44l.94 2.06.94-2.06 2.06-.94-2.06-.94-.94-2.06-.94 2.06-2.06.94zm-11 1L8.5 8.5l.94-2.06 2.06-.94-2.06-.94L8.5 2.5l-.94 2.06-2.06.94zm10 10l.94 2.06.94-2.06 2.06-.94-2.06-.94-.94-2.06-.94 2.06-2.06.94z\"/><path d=\"M17.41 7.96l-1.37-1.37c-.4-.4-.92-.59-1.43-.59-.52 0-1.04.2-1.43.59L10.3 9.45l-7.72 7.72c-.78.78-.78 2.05 0 2.83L4 21.41c.39.39.9.59 1.41.59.51 0 1.02-.2 1.41-.59l7.78-7.78 2.81-2.81c.8-.78.8-2.07 0-2.86zM5.41 20L4 18.59l7.72-7.72 1.47 1.35L5.41 20z\"/>\n",
              "  </svg>\n",
              "      </button>\n",
              "      \n",
              "  <style>\n",
              "    .colab-df-container {\n",
              "      display:flex;\n",
              "      flex-wrap:wrap;\n",
              "      gap: 12px;\n",
              "    }\n",
              "\n",
              "    .colab-df-convert {\n",
              "      background-color: #E8F0FE;\n",
              "      border: none;\n",
              "      border-radius: 50%;\n",
              "      cursor: pointer;\n",
              "      display: none;\n",
              "      fill: #1967D2;\n",
              "      height: 32px;\n",
              "      padding: 0 0 0 0;\n",
              "      width: 32px;\n",
              "    }\n",
              "\n",
              "    .colab-df-convert:hover {\n",
              "      background-color: #E2EBFA;\n",
              "      box-shadow: 0px 1px 2px rgba(60, 64, 67, 0.3), 0px 1px 3px 1px rgba(60, 64, 67, 0.15);\n",
              "      fill: #174EA6;\n",
              "    }\n",
              "\n",
              "    [theme=dark] .colab-df-convert {\n",
              "      background-color: #3B4455;\n",
              "      fill: #D2E3FC;\n",
              "    }\n",
              "\n",
              "    [theme=dark] .colab-df-convert:hover {\n",
              "      background-color: #434B5C;\n",
              "      box-shadow: 0px 1px 3px 1px rgba(0, 0, 0, 0.15);\n",
              "      filter: drop-shadow(0px 1px 2px rgba(0, 0, 0, 0.3));\n",
              "      fill: #FFFFFF;\n",
              "    }\n",
              "  </style>\n",
              "\n",
              "      <script>\n",
              "        const buttonEl =\n",
              "          document.querySelector('#df-f1204153-08b7-4628-b514-b84f1fe1a93a button.colab-df-convert');\n",
              "        buttonEl.style.display =\n",
              "          google.colab.kernel.accessAllowed ? 'block' : 'none';\n",
              "\n",
              "        async function convertToInteractive(key) {\n",
              "          const element = document.querySelector('#df-f1204153-08b7-4628-b514-b84f1fe1a93a');\n",
              "          const dataTable =\n",
              "            await google.colab.kernel.invokeFunction('convertToInteractive',\n",
              "                                                     [key], {});\n",
              "          if (!dataTable) return;\n",
              "\n",
              "          const docLinkHtml = 'Like what you see? Visit the ' +\n",
              "            '<a target=\"_blank\" href=https://colab.research.google.com/notebooks/data_table.ipynb>data table notebook</a>'\n",
              "            + ' to learn more about interactive tables.';\n",
              "          element.innerHTML = '';\n",
              "          dataTable['output_type'] = 'display_data';\n",
              "          await google.colab.output.renderOutput(dataTable, element);\n",
              "          const docLink = document.createElement('div');\n",
              "          docLink.innerHTML = docLinkHtml;\n",
              "          element.appendChild(docLink);\n",
              "        }\n",
              "      </script>\n",
              "    </div>\n",
              "  </div>\n",
              "  "
            ]
          },
          "metadata": {},
          "execution_count": 6
        }
      ]
    },
    {
      "cell_type": "code",
      "source": [
        "df.dtypes"
      ],
      "metadata": {
        "id": "6CNU70H97juV",
        "colab": {
          "base_uri": "https://localhost:8080/"
        },
        "outputId": "f149c68f-7ba0-4c41-876b-c0f60cd840e1"
      },
      "execution_count": 7,
      "outputs": [
        {
          "output_type": "execute_result",
          "data": {
            "text/plain": [
              "User_ID         int64\n",
              "Gender         object\n",
              "Age             int64\n",
              "Height        float64\n",
              "Weight        float64\n",
              "Duration      float64\n",
              "Heart_Rate    float64\n",
              "Body_Temp     float64\n",
              "Calories      float64\n",
              "dtype: object"
            ]
          },
          "metadata": {},
          "execution_count": 7
        }
      ]
    },
    {
      "cell_type": "code",
      "source": [
        "df['Gender'] = pd.get_dummies(df['Gender'], prefix_sep='_', drop_first=True)\n",
        "df.head()"
      ],
      "metadata": {
        "id": "dxwuUr8c76iO",
        "colab": {
          "base_uri": "https://localhost:8080/",
          "height": 206
        },
        "outputId": "e0aba0b9-8086-4186-fb4a-0180c5872fd3"
      },
      "execution_count": 8,
      "outputs": [
        {
          "output_type": "execute_result",
          "data": {
            "text/plain": [
              "    User_ID  Gender  Age  Height  Weight  Duration  Heart_Rate  Body_Temp  \\\n",
              "0  14733363       1   68   190.0    94.0      29.0       105.0       40.8   \n",
              "1  14861698       0   20   166.0    60.0      14.0        94.0       40.3   \n",
              "2  11179863       1   69   179.0    79.0       5.0        88.0       38.7   \n",
              "3  16180408       0   34   179.0    71.0      13.0       100.0       40.5   \n",
              "4  17771927       0   27   154.0    58.0      10.0        81.0       39.8   \n",
              "\n",
              "   Calories  \n",
              "0     231.0  \n",
              "1      66.0  \n",
              "2      26.0  \n",
              "3      71.0  \n",
              "4      35.0  "
            ],
            "text/html": [
              "\n",
              "  <div id=\"df-f96fd3bb-cb51-432b-b4a6-f0ad40e12391\">\n",
              "    <div class=\"colab-df-container\">\n",
              "      <div>\n",
              "<style scoped>\n",
              "    .dataframe tbody tr th:only-of-type {\n",
              "        vertical-align: middle;\n",
              "    }\n",
              "\n",
              "    .dataframe tbody tr th {\n",
              "        vertical-align: top;\n",
              "    }\n",
              "\n",
              "    .dataframe thead th {\n",
              "        text-align: right;\n",
              "    }\n",
              "</style>\n",
              "<table border=\"1\" class=\"dataframe\">\n",
              "  <thead>\n",
              "    <tr style=\"text-align: right;\">\n",
              "      <th></th>\n",
              "      <th>User_ID</th>\n",
              "      <th>Gender</th>\n",
              "      <th>Age</th>\n",
              "      <th>Height</th>\n",
              "      <th>Weight</th>\n",
              "      <th>Duration</th>\n",
              "      <th>Heart_Rate</th>\n",
              "      <th>Body_Temp</th>\n",
              "      <th>Calories</th>\n",
              "    </tr>\n",
              "  </thead>\n",
              "  <tbody>\n",
              "    <tr>\n",
              "      <th>0</th>\n",
              "      <td>14733363</td>\n",
              "      <td>1</td>\n",
              "      <td>68</td>\n",
              "      <td>190.0</td>\n",
              "      <td>94.0</td>\n",
              "      <td>29.0</td>\n",
              "      <td>105.0</td>\n",
              "      <td>40.8</td>\n",
              "      <td>231.0</td>\n",
              "    </tr>\n",
              "    <tr>\n",
              "      <th>1</th>\n",
              "      <td>14861698</td>\n",
              "      <td>0</td>\n",
              "      <td>20</td>\n",
              "      <td>166.0</td>\n",
              "      <td>60.0</td>\n",
              "      <td>14.0</td>\n",
              "      <td>94.0</td>\n",
              "      <td>40.3</td>\n",
              "      <td>66.0</td>\n",
              "    </tr>\n",
              "    <tr>\n",
              "      <th>2</th>\n",
              "      <td>11179863</td>\n",
              "      <td>1</td>\n",
              "      <td>69</td>\n",
              "      <td>179.0</td>\n",
              "      <td>79.0</td>\n",
              "      <td>5.0</td>\n",
              "      <td>88.0</td>\n",
              "      <td>38.7</td>\n",
              "      <td>26.0</td>\n",
              "    </tr>\n",
              "    <tr>\n",
              "      <th>3</th>\n",
              "      <td>16180408</td>\n",
              "      <td>0</td>\n",
              "      <td>34</td>\n",
              "      <td>179.0</td>\n",
              "      <td>71.0</td>\n",
              "      <td>13.0</td>\n",
              "      <td>100.0</td>\n",
              "      <td>40.5</td>\n",
              "      <td>71.0</td>\n",
              "    </tr>\n",
              "    <tr>\n",
              "      <th>4</th>\n",
              "      <td>17771927</td>\n",
              "      <td>0</td>\n",
              "      <td>27</td>\n",
              "      <td>154.0</td>\n",
              "      <td>58.0</td>\n",
              "      <td>10.0</td>\n",
              "      <td>81.0</td>\n",
              "      <td>39.8</td>\n",
              "      <td>35.0</td>\n",
              "    </tr>\n",
              "  </tbody>\n",
              "</table>\n",
              "</div>\n",
              "      <button class=\"colab-df-convert\" onclick=\"convertToInteractive('df-f96fd3bb-cb51-432b-b4a6-f0ad40e12391')\"\n",
              "              title=\"Convert this dataframe to an interactive table.\"\n",
              "              style=\"display:none;\">\n",
              "        \n",
              "  <svg xmlns=\"http://www.w3.org/2000/svg\" height=\"24px\"viewBox=\"0 0 24 24\"\n",
              "       width=\"24px\">\n",
              "    <path d=\"M0 0h24v24H0V0z\" fill=\"none\"/>\n",
              "    <path d=\"M18.56 5.44l.94 2.06.94-2.06 2.06-.94-2.06-.94-.94-2.06-.94 2.06-2.06.94zm-11 1L8.5 8.5l.94-2.06 2.06-.94-2.06-.94L8.5 2.5l-.94 2.06-2.06.94zm10 10l.94 2.06.94-2.06 2.06-.94-2.06-.94-.94-2.06-.94 2.06-2.06.94z\"/><path d=\"M17.41 7.96l-1.37-1.37c-.4-.4-.92-.59-1.43-.59-.52 0-1.04.2-1.43.59L10.3 9.45l-7.72 7.72c-.78.78-.78 2.05 0 2.83L4 21.41c.39.39.9.59 1.41.59.51 0 1.02-.2 1.41-.59l7.78-7.78 2.81-2.81c.8-.78.8-2.07 0-2.86zM5.41 20L4 18.59l7.72-7.72 1.47 1.35L5.41 20z\"/>\n",
              "  </svg>\n",
              "      </button>\n",
              "      \n",
              "  <style>\n",
              "    .colab-df-container {\n",
              "      display:flex;\n",
              "      flex-wrap:wrap;\n",
              "      gap: 12px;\n",
              "    }\n",
              "\n",
              "    .colab-df-convert {\n",
              "      background-color: #E8F0FE;\n",
              "      border: none;\n",
              "      border-radius: 50%;\n",
              "      cursor: pointer;\n",
              "      display: none;\n",
              "      fill: #1967D2;\n",
              "      height: 32px;\n",
              "      padding: 0 0 0 0;\n",
              "      width: 32px;\n",
              "    }\n",
              "\n",
              "    .colab-df-convert:hover {\n",
              "      background-color: #E2EBFA;\n",
              "      box-shadow: 0px 1px 2px rgba(60, 64, 67, 0.3), 0px 1px 3px 1px rgba(60, 64, 67, 0.15);\n",
              "      fill: #174EA6;\n",
              "    }\n",
              "\n",
              "    [theme=dark] .colab-df-convert {\n",
              "      background-color: #3B4455;\n",
              "      fill: #D2E3FC;\n",
              "    }\n",
              "\n",
              "    [theme=dark] .colab-df-convert:hover {\n",
              "      background-color: #434B5C;\n",
              "      box-shadow: 0px 1px 3px 1px rgba(0, 0, 0, 0.15);\n",
              "      filter: drop-shadow(0px 1px 2px rgba(0, 0, 0, 0.3));\n",
              "      fill: #FFFFFF;\n",
              "    }\n",
              "  </style>\n",
              "\n",
              "      <script>\n",
              "        const buttonEl =\n",
              "          document.querySelector('#df-f96fd3bb-cb51-432b-b4a6-f0ad40e12391 button.colab-df-convert');\n",
              "        buttonEl.style.display =\n",
              "          google.colab.kernel.accessAllowed ? 'block' : 'none';\n",
              "\n",
              "        async function convertToInteractive(key) {\n",
              "          const element = document.querySelector('#df-f96fd3bb-cb51-432b-b4a6-f0ad40e12391');\n",
              "          const dataTable =\n",
              "            await google.colab.kernel.invokeFunction('convertToInteractive',\n",
              "                                                     [key], {});\n",
              "          if (!dataTable) return;\n",
              "\n",
              "          const docLinkHtml = 'Like what you see? Visit the ' +\n",
              "            '<a target=\"_blank\" href=https://colab.research.google.com/notebooks/data_table.ipynb>data table notebook</a>'\n",
              "            + ' to learn more about interactive tables.';\n",
              "          element.innerHTML = '';\n",
              "          dataTable['output_type'] = 'display_data';\n",
              "          await google.colab.output.renderOutput(dataTable, element);\n",
              "          const docLink = document.createElement('div');\n",
              "          docLink.innerHTML = docLinkHtml;\n",
              "          element.appendChild(docLink);\n",
              "        }\n",
              "      </script>\n",
              "    </div>\n",
              "  </div>\n",
              "  "
            ]
          },
          "metadata": {},
          "execution_count": 8
        }
      ]
    },
    {
      "cell_type": "code",
      "source": [
        "# correlations with calories\n",
        "correlations = df.drop(columns=['User_ID'],axis=1).copy().corr()['Calories']\n",
        "correlations = correlations.sort_values(ascending=False).drop('Calories',axis=0)\n",
        "print(correlations)\n",
        "correlations.to_frame().plot.bar();"
      ],
      "metadata": {
        "id": "6_jtKQnz773D",
        "colab": {
          "base_uri": "https://localhost:8080/",
          "height": 458
        },
        "outputId": "8a9b0234-af3d-481f-b1fc-da3129d668d1"
      },
      "execution_count": 9,
      "outputs": [
        {
          "output_type": "stream",
          "name": "stdout",
          "text": [
            "Duration      0.955421\n",
            "Heart_Rate    0.897882\n",
            "Body_Temp     0.824558\n",
            "Age           0.154395\n",
            "Weight        0.035481\n",
            "Gender        0.022357\n",
            "Height        0.017537\n",
            "Name: Calories, dtype: float64\n"
          ]
        },
        {
          "output_type": "display_data",
          "data": {
            "text/plain": [
              "<Figure size 432x288 with 1 Axes>"
            ],
            "image/png": "[encoded data removed]"
          },
          "metadata": {
            "needs_background": "light"
          }
        }
      ]
    },
    {
      "cell_type": "code",
      "source": [
        "df_7f = df[['Duration','Heart_Rate','Body_Temp','Age','Weight','Gender','Height','Calories']].copy()\n",
        "df_7f.rename(columns={'Duration':'t',\n",
        "                      'Heart_Rate':'h',\n",
        "                      'Body_Temp':'T',\n",
        "                      'Age':'A',\n",
        "                      'Weight':'W',\n",
        "                      'Gender':'G',\n",
        "                      'Height':'H',\n",
        "                      'Calories':'C'},inplace=True)\n",
        "\n",
        "df_5f = df[['Duration','Age','Weight','Gender','Height','Calories']].copy()\n",
        "df_5f.rename(columns={'Duration':'t',\n",
        "                      'Age':'A',\n",
        "                      'Weight':'W',\n",
        "                      'Gender':'G',\n",
        "                      'Height':'H',\n",
        "                      'Calories':'C'},inplace=True)"
      ],
      "metadata": {
        "id": "G9fmz40QxmC6"
      },
      "execution_count": 10,
      "outputs": []
    },
    {
      "cell_type": "code",
      "source": [
        "# train test split\n",
        "X_7 = df_7f[['t','h','T','A','W','G','H']]\n",
        "y_7 = df_7f['C']\n",
        "X_train_7, X_test_7, y_train_7, y_test_7 = train_test_split(X_7, y_7, test_size=0.2, random_state=21)\n",
        "\n",
        "X_5 = df_5f[['t','A','W','G','H']]\n",
        "y_5 = df_5f['C']\n",
        "X_train_5, X_test_5, y_train_5, y_test_5 = train_test_split(X_5, y_5, test_size=0.2, random_state=21)"
      ],
      "metadata": {
        "id": "4co9Uk0tx1Ob"
      },
      "execution_count": 11,
      "outputs": []
    },
    {
      "cell_type": "code",
      "source": [
        "scaler = StandardScaler()\n",
        "\n",
        "X_train_7 = scaler.fit_transform(X_train_7)\n",
        "X_test_7 = scaler.transform(X_test_7)\n",
        "\n",
        "X_train_5 = scaler.fit_transform(X_train_5)\n",
        "X_test_5 = scaler.transform(X_test_5)"
      ],
      "metadata": {
        "id": "xC6xOciF9qHO"
      },
      "execution_count": 12,
      "outputs": []
    },
    {
      "cell_type": "markdown",
      "source": [
        "## Modeling"
      ],
      "metadata": {
        "id": "ZbSocpKb16_x"
      }
    },
    {
      "cell_type": "code",
      "source": [
        "callback = keras.callbacks.EarlyStopping(monitor='loss', patience=7)"
      ],
      "metadata": {
        "id": "l7gD_rQ5sJNr"
      },
      "execution_count": 13,
      "outputs": []
    },
    {
      "cell_type": "code",
      "source": [
        "model_7 = keras.Sequential([\n",
        "    keras.layers.Dense(X_7.shape[1], activation='relu', input_dim = X_7.shape[1]), # input\n",
        "    keras.layers.Dense(512, kernel_initializer='normal', activation='relu'), # beginning of hidden layer\n",
        "    keras.layers.Dense(512, kernel_initializer='normal', activation='relu'),\n",
        "    keras.layers.Dense(256, kernel_initializer='normal', activation='relu'),\n",
        "    keras.layers.Dense(128, kernel_initializer='normal', activation='relu'),\n",
        "    keras.layers.Dense(64, kernel_initializer='normal', activation='relu'),\n",
        "    keras.layers.Dense(32, kernel_initializer='normal', activation='relu'), # end of hidden layer\n",
        "    keras.layers.Dense(1, kernel_initializer='normal', activation='relu') # output\n",
        "])"
      ],
      "metadata": {
        "id": "qSm6_nhE9_Sv"
      },
      "execution_count": 14,
      "outputs": []
    },
    {
      "cell_type": "code",
      "source": [
        "model_7.compile(loss='mse', \n",
        "              optimizer='adam', \n",
        "              metrics=['mse','mae'])\n",
        "model_7.summary()"
      ],
      "metadata": {
        "colab": {
          "base_uri": "https://localhost:8080/"
        },
        "id": "q1g0r4cr-Odt",
        "outputId": "ee84c18e-2993-450d-8fbb-f045990b08b8"
      },
      "execution_count": 15,
      "outputs": [
        {
          "output_type": "stream",
          "name": "stdout",
          "text": [
            "Model: \"sequential\"\n",
            "_________________________________________________________________\n",
            " Layer (type)                Output Shape              Param #   \n",
            "=================================================================\n",
            " dense (Dense)               (None, 7)                 56        \n",
            "                                                                 \n",
            " dense_1 (Dense)             (None, 512)               4096      \n",
            "                                                                 \n",
            " dense_2 (Dense)             (None, 512)               262656    \n",
            "                                                                 \n",
            " dense_3 (Dense)             (None, 256)               131328    \n",
            "                                                                 \n",
            " dense_4 (Dense)             (None, 128)               32896     \n",
            "                                                                 \n",
            " dense_5 (Dense)             (None, 64)                8256      \n",
            "                                                                 \n",
            " dense_6 (Dense)             (None, 32)                2080      \n",
            "                                                                 \n",
            " dense_7 (Dense)             (None, 1)                 33        \n",
            "                                                                 \n",
            "=================================================================\n",
            "Total params: 441,401\n",
            "Trainable params: 441,401\n",
            "Non-trainable params: 0\n",
            "_________________________________________________________________\n"
          ]
        }
      ]
    },
    {
      "cell_type": "code",
      "source": [
        "history_7 = model_7.fit(X_train_7, y_train_7.to_numpy(), batch_size = 16, epochs = 50, callbacks=[callback], verbose = 1)"
      ],
      "metadata": {
        "colab": {
          "base_uri": "https://localhost:8080/"
        },
        "id": "lwpYEPhb-R3D",
        "outputId": "1ef78c37-3623-4ff7-d7b5-a348e2f98167"
      },
      "execution_count": 16,
      "outputs": [
        {
          "output_type": "stream",
          "name": "stdout",
          "text": [
            "Epoch 1/50\n",
            "750/750 [==============================] - 8s 9ms/step - loss: 615.6537 - mse: 615.6537 - mae: 13.3831\n",
            "Epoch 2/50\n",
            "750/750 [==============================] - 7s 9ms/step - loss: 47.3574 - mse: 47.3574 - mae: 5.3329\n",
            "Epoch 3/50\n",
            "750/750 [==============================] - 10s 13ms/step - loss: 24.6254 - mse: 24.6254 - mae: 3.8386\n",
            "Epoch 4/50\n",
            "750/750 [==============================] - 10s 14ms/step - loss: 16.0792 - mse: 16.0792 - mae: 3.0581\n",
            "Epoch 5/50\n",
            "750/750 [==============================] - 10s 14ms/step - loss: 9.3982 - mse: 9.3982 - mae: 2.3339\n",
            "Epoch 6/50\n",
            "750/750 [==============================] - 7s 10ms/step - loss: 7.8425 - mse: 7.8425 - mae: 2.0751\n",
            "Epoch 7/50\n",
            "750/750 [==============================] - 7s 9ms/step - loss: 6.7016 - mse: 6.7016 - mae: 1.9086\n",
            "Epoch 8/50\n",
            "750/750 [==============================] - 8s 10ms/step - loss: 6.4684 - mse: 6.4684 - mae: 1.8256\n",
            "Epoch 9/50\n",
            "750/750 [==============================] - 7s 9ms/step - loss: 5.0341 - mse: 5.0341 - mae: 1.6623\n",
            "Epoch 10/50\n",
            "750/750 [==============================] - 7s 10ms/step - loss: 4.4162 - mse: 4.4162 - mae: 1.5144\n",
            "Epoch 11/50\n",
            "750/750 [==============================] - 8s 10ms/step - loss: 4.4092 - mse: 4.4092 - mae: 1.5346\n",
            "Epoch 12/50\n",
            "750/750 [==============================] - 8s 10ms/step - loss: 4.2041 - mse: 4.2041 - mae: 1.5204\n",
            "Epoch 13/50\n",
            "750/750 [==============================] - 7s 9ms/step - loss: 3.3136 - mse: 3.3136 - mae: 1.2880\n",
            "Epoch 14/50\n",
            "750/750 [==============================] - 7s 9ms/step - loss: 3.3270 - mse: 3.3270 - mae: 1.3156\n",
            "Epoch 15/50\n",
            "750/750 [==============================] - 7s 10ms/step - loss: 3.1481 - mse: 3.1481 - mae: 1.2901\n",
            "Epoch 16/50\n",
            "750/750 [==============================] - 7s 9ms/step - loss: 3.0188 - mse: 3.0188 - mae: 1.2340\n",
            "Epoch 17/50\n",
            "750/750 [==============================] - 7s 9ms/step - loss: 3.0997 - mse: 3.0997 - mae: 1.2182\n",
            "Epoch 18/50\n",
            "750/750 [==============================] - 7s 10ms/step - loss: 3.0038 - mse: 3.0038 - mae: 1.1965\n",
            "Epoch 19/50\n",
            "750/750 [==============================] - 7s 10ms/step - loss: 3.7675 - mse: 3.7675 - mae: 1.2392\n",
            "Epoch 20/50\n",
            "750/750 [==============================] - 7s 10ms/step - loss: 2.5454 - mse: 2.5454 - mae: 1.0543\n",
            "Epoch 21/50\n",
            "750/750 [==============================] - 7s 10ms/step - loss: 2.0531 - mse: 2.0531 - mae: 1.0275\n",
            "Epoch 22/50\n",
            "750/750 [==============================] - 7s 9ms/step - loss: 2.2581 - mse: 2.2581 - mae: 1.0567\n",
            "Epoch 23/50\n",
            "750/750 [==============================] - 7s 9ms/step - loss: 3.3901 - mse: 3.3901 - mae: 1.1337\n",
            "Epoch 24/50\n",
            "750/750 [==============================] - 7s 9ms/step - loss: 2.0320 - mse: 2.0320 - mae: 0.9495\n",
            "Epoch 25/50\n",
            "750/750 [==============================] - 8s 11ms/step - loss: 3.3610 - mse: 3.3610 - mae: 1.1195\n",
            "Epoch 26/50\n",
            "750/750 [==============================] - 7s 10ms/step - loss: 1.1405 - mse: 1.1405 - mae: 0.7802\n",
            "Epoch 27/50\n",
            "750/750 [==============================] - 7s 10ms/step - loss: 1.2935 - mse: 1.2935 - mae: 0.8008\n",
            "Epoch 28/50\n",
            "750/750 [==============================] - 7s 9ms/step - loss: 4.1787 - mse: 4.1787 - mae: 1.2527\n",
            "Epoch 29/50\n",
            "750/750 [==============================] - 7s 9ms/step - loss: 1.0460 - mse: 1.0460 - mae: 0.7094\n",
            "Epoch 30/50\n",
            "750/750 [==============================] - 7s 9ms/step - loss: 1.2491 - mse: 1.2491 - mae: 0.8010\n",
            "Epoch 31/50\n",
            "750/750 [==============================] - 7s 10ms/step - loss: 3.1250 - mse: 3.1250 - mae: 1.1301\n",
            "Epoch 32/50\n",
            "750/750 [==============================] - 7s 10ms/step - loss: 1.0381 - mse: 1.0381 - mae: 0.6993\n",
            "Epoch 33/50\n",
            "750/750 [==============================] - 7s 9ms/step - loss: 5.1041 - mse: 5.1041 - mae: 1.2077\n",
            "Epoch 34/50\n",
            "750/750 [==============================] - 8s 10ms/step - loss: 0.8456 - mse: 0.8456 - mae: 0.6663\n",
            "Epoch 35/50\n",
            "750/750 [==============================] - 7s 10ms/step - loss: 1.8724 - mse: 1.8724 - mae: 0.9336\n",
            "Epoch 36/50\n",
            "750/750 [==============================] - 7s 10ms/step - loss: 1.4846 - mse: 1.4846 - mae: 0.8363\n",
            "Epoch 37/50\n",
            "750/750 [==============================] - 7s 9ms/step - loss: 1.3528 - mse: 1.3528 - mae: 0.7892\n",
            "Epoch 38/50\n",
            "750/750 [==============================] - 7s 9ms/step - loss: 1.4601 - mse: 1.4601 - mae: 0.8533\n",
            "Epoch 39/50\n",
            "750/750 [==============================] - 8s 10ms/step - loss: 7.1641 - mse: 7.1641 - mae: 1.1595\n",
            "Epoch 40/50\n",
            "750/750 [==============================] - 7s 10ms/step - loss: 0.6343 - mse: 0.6343 - mae: 0.5729\n",
            "Epoch 41/50\n",
            "750/750 [==============================] - 8s 10ms/step - loss: 1.1873 - mse: 1.1873 - mae: 0.7250\n",
            "Epoch 42/50\n",
            "750/750 [==============================] - 7s 9ms/step - loss: 0.9664 - mse: 0.9664 - mae: 0.6678\n",
            "Epoch 43/50\n",
            "750/750 [==============================] - 7s 10ms/step - loss: 1.6070 - mse: 1.6070 - mae: 0.8433\n",
            "Epoch 44/50\n",
            "750/750 [==============================] - 7s 10ms/step - loss: 0.8488 - mse: 0.8488 - mae: 0.6756\n",
            "Epoch 45/50\n",
            "750/750 [==============================] - 7s 9ms/step - loss: 1.1440 - mse: 1.1440 - mae: 0.7659\n",
            "Epoch 46/50\n",
            "750/750 [==============================] - 7s 10ms/step - loss: 2.1581 - mse: 2.1581 - mae: 0.9414\n",
            "Epoch 47/50\n",
            "750/750 [==============================] - 7s 10ms/step - loss: 1.5173 - mse: 1.5173 - mae: 0.8018\n"
          ]
        }
      ]
    },
    {
      "cell_type": "code",
      "source": [
        "model_5 = keras.Sequential([\n",
        "    keras.layers.Dense(X_5.shape[1], activation='relu', input_dim = X_5.shape[1]), # input\n",
        "    keras.layers.Dense(512, kernel_initializer='normal', activation='relu'), # beginning of hidden layer\n",
        "    keras.layers.Dense(512, kernel_initializer='normal', activation='relu'),\n",
        "    keras.layers.Dense(256, kernel_initializer='normal', activation='relu'),\n",
        "    keras.layers.Dense(128, kernel_initializer='normal', activation='relu'),\n",
        "    keras.layers.Dense(64, kernel_initializer='normal', activation='relu'),\n",
        "    keras.layers.Dense(32, kernel_initializer='normal', activation='relu'), # end of hidden layer\n",
        "    keras.layers.Dense(1, kernel_initializer='normal', activation='relu') # output\n",
        "])"
      ],
      "metadata": {
        "id": "7si6bRh_rF0f"
      },
      "execution_count": 17,
      "outputs": []
    },
    {
      "cell_type": "code",
      "source": [
        "model_5.compile(loss='mse', \n",
        "              optimizer='adam', \n",
        "              metrics=['mse','mae'])\n",
        "model_5.summary()"
      ],
      "metadata": {
        "colab": {
          "base_uri": "https://localhost:8080/"
        },
        "id": "zDarWfgarKCD",
        "outputId": "4e9e4f0c-46b6-4afd-da03-a6ebce308db7"
      },
      "execution_count": 18,
      "outputs": [
        {
          "output_type": "stream",
          "name": "stdout",
          "text": [
            "Model: \"sequential_1\"\n",
            "_________________________________________________________________\n",
            " Layer (type)                Output Shape              Param #   \n",
            "=================================================================\n",
            " dense_8 (Dense)             (None, 5)                 30        \n",
            "                                                                 \n",
            " dense_9 (Dense)             (None, 512)               3072      \n",
            "                                                                 \n",
            " dense_10 (Dense)            (None, 512)               262656    \n",
            "                                                                 \n",
            " dense_11 (Dense)            (None, 256)               131328    \n",
            "                                                                 \n",
            " dense_12 (Dense)            (None, 128)               32896     \n",
            "                                                                 \n",
            " dense_13 (Dense)            (None, 64)                8256      \n",
            "                                                                 \n",
            " dense_14 (Dense)            (None, 32)                2080      \n",
            "                                                                 \n",
            " dense_15 (Dense)            (None, 1)                 33        \n",
            "                                                                 \n",
            "=================================================================\n",
            "Total params: 440,351\n",
            "Trainable params: 440,351\n",
            "Non-trainable params: 0\n",
            "_________________________________________________________________\n"
          ]
        }
      ]
    },
    {
      "cell_type": "code",
      "source": [
        "history_5 = model_5.fit(X_train_5, y_train_5.to_numpy(), batch_size = 16, epochs = 50, callbacks=[callback], verbose = 1)"
      ],
      "metadata": {
        "colab": {
          "base_uri": "https://localhost:8080/"
        },
        "id": "tZKturgBrNh7",
        "outputId": "91cac5bd-38c9-4839-d98b-08d09ca90373"
      },
      "execution_count": 19,
      "outputs": [
        {
          "output_type": "stream",
          "name": "stdout",
          "text": [
            "Epoch 1/50\n",
            "750/750 [==============================] - 11s 13ms/step - loss: 1524.2131 - mse: 1524.2131 - mae: 24.5057\n",
            "Epoch 2/50\n",
            "750/750 [==============================] - 7s 10ms/step - loss: 244.1519 - mse: 244.1519 - mae: 11.1757\n",
            "Epoch 3/50\n",
            "750/750 [==============================] - 8s 10ms/step - loss: 198.5211 - mse: 198.5211 - mae: 10.0722\n",
            "Epoch 4/50\n",
            "750/750 [==============================] - 7s 10ms/step - loss: 184.8819 - mse: 184.8819 - mae: 9.7726\n",
            "Epoch 5/50\n",
            "750/750 [==============================] - 7s 9ms/step - loss: 170.2497 - mse: 170.2497 - mae: 9.3876\n",
            "Epoch 6/50\n",
            "750/750 [==============================] - 7s 9ms/step - loss: 164.9631 - mse: 164.9631 - mae: 9.1901\n",
            "Epoch 7/50\n",
            "750/750 [==============================] - 7s 10ms/step - loss: 167.7592 - mse: 167.7592 - mae: 9.2024\n",
            "Epoch 8/50\n",
            "750/750 [==============================] - 8s 11ms/step - loss: 166.9539 - mse: 166.9539 - mae: 9.1988\n",
            "Epoch 9/50\n",
            "750/750 [==============================] - 7s 10ms/step - loss: 159.7593 - mse: 159.7593 - mae: 8.9431\n",
            "Epoch 10/50\n",
            "750/750 [==============================] - 7s 9ms/step - loss: 160.9404 - mse: 160.9404 - mae: 8.9881\n",
            "Epoch 11/50\n",
            "750/750 [==============================] - 7s 10ms/step - loss: 158.4754 - mse: 158.4754 - mae: 8.9093\n",
            "Epoch 12/50\n",
            "750/750 [==============================] - 7s 9ms/step - loss: 160.2555 - mse: 160.2555 - mae: 8.9667\n",
            "Epoch 13/50\n",
            "750/750 [==============================] - 7s 9ms/step - loss: 160.2838 - mse: 160.2838 - mae: 8.9656\n",
            "Epoch 14/50\n",
            "750/750 [==============================] - 7s 10ms/step - loss: 153.7259 - mse: 153.7259 - mae: 8.7636\n",
            "Epoch 15/50\n",
            "750/750 [==============================] - 7s 10ms/step - loss: 155.2198 - mse: 155.2198 - mae: 8.8140\n",
            "Epoch 16/50\n",
            "750/750 [==============================] - 7s 10ms/step - loss: 158.8867 - mse: 158.8867 - mae: 8.8996\n",
            "Epoch 17/50\n",
            "750/750 [==============================] - 7s 10ms/step - loss: 153.1660 - mse: 153.1660 - mae: 8.7147\n",
            "Epoch 18/50\n",
            "750/750 [==============================] - 7s 9ms/step - loss: 152.5394 - mse: 152.5394 - mae: 8.7028\n",
            "Epoch 19/50\n",
            "750/750 [==============================] - 7s 10ms/step - loss: 153.4516 - mse: 153.4516 - mae: 8.7362\n",
            "Epoch 20/50\n",
            "750/750 [==============================] - 7s 10ms/step - loss: 152.8007 - mse: 152.8007 - mae: 8.6871\n",
            "Epoch 21/50\n",
            "750/750 [==============================] - 7s 10ms/step - loss: 153.2598 - mse: 153.2598 - mae: 8.7060\n",
            "Epoch 22/50\n",
            "750/750 [==============================] - 8s 10ms/step - loss: 152.9242 - mse: 152.9242 - mae: 8.6520\n",
            "Epoch 23/50\n",
            "750/750 [==============================] - 7s 10ms/step - loss: 148.4813 - mse: 148.4813 - mae: 8.5775\n",
            "Epoch 24/50\n",
            "750/750 [==============================] - 7s 10ms/step - loss: 152.8672 - mse: 152.8672 - mae: 8.6552\n",
            "Epoch 25/50\n",
            "750/750 [==============================] - 7s 10ms/step - loss: 149.4847 - mse: 149.4847 - mae: 8.5864\n",
            "Epoch 26/50\n",
            "750/750 [==============================] - 7s 9ms/step - loss: 150.5667 - mse: 150.5667 - mae: 8.6264\n",
            "Epoch 27/50\n",
            "750/750 [==============================] - 7s 10ms/step - loss: 151.0501 - mse: 151.0501 - mae: 8.6628\n",
            "Epoch 28/50\n",
            "750/750 [==============================] - 7s 10ms/step - loss: 148.4732 - mse: 148.4732 - mae: 8.5592\n",
            "Epoch 29/50\n",
            "750/750 [==============================] - 7s 10ms/step - loss: 147.0010 - mse: 147.0010 - mae: 8.5156\n",
            "Epoch 30/50\n",
            "750/750 [==============================] - 7s 10ms/step - loss: 146.5570 - mse: 146.5570 - mae: 8.4986\n",
            "Epoch 31/50\n",
            "750/750 [==============================] - 7s 10ms/step - loss: 145.8094 - mse: 145.8094 - mae: 8.4760\n",
            "Epoch 32/50\n",
            "750/750 [==============================] - 8s 10ms/step - loss: 143.7625 - mse: 143.7625 - mae: 8.4349\n",
            "Epoch 33/50\n",
            "750/750 [==============================] - 8s 10ms/step - loss: 150.1855 - mse: 150.1855 - mae: 8.5562\n",
            "Epoch 34/50\n",
            "750/750 [==============================] - 8s 10ms/step - loss: 146.0785 - mse: 146.0785 - mae: 8.5073\n",
            "Epoch 35/50\n",
            "750/750 [==============================] - 8s 10ms/step - loss: 147.7881 - mse: 147.7881 - mae: 8.5393\n",
            "Epoch 36/50\n",
            "750/750 [==============================] - 8s 10ms/step - loss: 145.9642 - mse: 145.9642 - mae: 8.4910\n",
            "Epoch 37/50\n",
            "750/750 [==============================] - 7s 10ms/step - loss: 148.4352 - mse: 148.4352 - mae: 8.5456\n",
            "Epoch 38/50\n",
            "750/750 [==============================] - 7s 9ms/step - loss: 146.7023 - mse: 146.7023 - mae: 8.5019\n",
            "Epoch 39/50\n",
            "750/750 [==============================] - 7s 10ms/step - loss: 148.0095 - mse: 148.0095 - mae: 8.5284\n"
          ]
        }
      ]
    },
    {
      "cell_type": "code",
      "source": [
        "y_pred_7 = model_7.predict(X_test_7)\n",
        "y_pred_5 = model_5.predict(X_test_5)"
      ],
      "metadata": {
        "id": "9q-Z9ern-cV5"
      },
      "execution_count": 20,
      "outputs": []
    },
    {
      "cell_type": "code",
      "source": [
        "model_7.evaluate(X_test_7, y_test_7)"
      ],
      "metadata": {
        "colab": {
          "base_uri": "https://localhost:8080/"
        },
        "id": "L8l_w6uo-gEH",
        "outputId": "2fda1a86-1827-46d8-fc56-a64c3ce395da"
      },
      "execution_count": 21,
      "outputs": [
        {
          "output_type": "stream",
          "name": "stdout",
          "text": [
            "94/94 [==============================] - 0s 3ms/step - loss: 1.9134 - mse: 1.9134 - mae: 1.0051\n"
          ]
        },
        {
          "output_type": "execute_result",
          "data": {
            "text/plain": [
              "[1.9134217500686646, 1.9134217500686646, 1.0051220655441284]"
            ]
          },
          "metadata": {},
          "execution_count": 21
        }
      ]
    },
    {
      "cell_type": "code",
      "source": [
        "model_5.evaluate(X_test_5, y_test_5)"
      ],
      "metadata": {
        "colab": {
          "base_uri": "https://localhost:8080/"
        },
        "id": "8_OlgOKErbR8",
        "outputId": "5dbb8712-15fb-4038-dfe0-9d9d121e4af0"
      },
      "execution_count": 22,
      "outputs": [
        {
          "output_type": "stream",
          "name": "stdout",
          "text": [
            "94/94 [==============================] - 0s 3ms/step - loss: 135.6219 - mse: 135.6219 - mae: 8.1575\n"
          ]
        },
        {
          "output_type": "execute_result",
          "data": {
            "text/plain": [
              "[135.62188720703125, 135.62188720703125, 8.157508850097656]"
            ]
          },
          "metadata": {},
          "execution_count": 22
        }
      ]
    },
    {
      "cell_type": "code",
      "source": [
        "def plot_loss(history):\n",
        "  plt.plot(history.history['loss'], label='loss')\n",
        "  plt.plot(history.history['mse'], label='mse')\n",
        "  plt.plot(history.history['mae'], label='mae')\n",
        "  plt.ylim([0, 10])\n",
        "  plt.xlabel('Epoch')\n",
        "  plt.ylabel('Error [Calories]')\n",
        "  plt.legend()\n",
        "  plt.grid(True)"
      ],
      "metadata": {
        "id": "eMYflyJNBfIv"
      },
      "execution_count": 23,
      "outputs": []
    },
    {
      "cell_type": "code",
      "source": [
        "plot_loss(history_7)"
      ],
      "metadata": {
        "colab": {
          "base_uri": "https://localhost:8080/",
          "height": 283
        },
        "id": "hQe-G0V-Bmsc",
        "outputId": "af2dffe3-843b-44d0-b398-49730a651672"
      },
      "execution_count": 24,
      "outputs": [
        {
          "output_type": "display_data",
          "data": {
            "text/plain": [
              "<Figure size 432x288 with 1 Axes>"
            ],
            "image/png": "[encoded data removed]"
          },
          "metadata": {
            "needs_background": "light"
          }
        }
      ]
    },
    {
      "cell_type": "code",
      "source": [
        "plot_loss(history_5)"
      ],
      "metadata": {
        "colab": {
          "base_uri": "https://localhost:8080/",
          "height": 283
        },
        "id": "voGm9jhPriCJ",
        "outputId": "c5195e4d-b554-41d0-a1ee-225c79171240"
      },
      "execution_count": 25,
      "outputs": [
        {
          "output_type": "display_data",
          "data": {
            "text/plain": [
              "<Figure size 432x288 with 1 Axes>"
            ],
            "image/png": "[encoded data removed]"
          },
          "metadata": {
            "needs_background": "light"
          }
        }
      ]
    },
    {
      "cell_type": "code",
      "source": [
        "model_7.save('model_7.h5')"
      ],
      "metadata": {
        "id": "T57THcD0RTlr"
      },
      "execution_count": 26,
      "outputs": []
    },
    {
      "cell_type": "code",
      "source": [
        "model_5.save('model_5.h5')"
      ],
      "metadata": {
        "id": "9utleyv1rmzt"
      },
      "execution_count": 27,
      "outputs": []
    }
  ]
}